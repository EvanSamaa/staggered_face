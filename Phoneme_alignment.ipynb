{
 "cells": [
  {
   "cell_type": "code",
   "execution_count": 1,
   "metadata": {},
   "outputs": [],
   "source": [
    "# import whisper_timestamped\n",
    "import os\n",
    "import json\n",
    "import whisper"
   ]
  },
  {
   "cell_type": "code",
   "execution_count": null,
   "metadata": {},
   "outputs": [],
   "source": [
    "input_audio = \"/Users/evanpan/Documents/GitHub/facial-PAE/datasets/30/30_katya_0_65_66.wav\"\n",
    "output_txt = \"/Users/evanpan/Documents/GitHub/facial-PAE/datasets/30/30_katya_0_65_66.txt\""
   ]
  },
  {
   "cell_type": "code",
   "execution_count": 13,
   "metadata": {},
   "outputs": [
    {
     "name": "stderr",
     "output_type": "stream",
     "text": [
      "/Users/evanpan/opt/anaconda3/envs/mediapipe/lib/python3.10/site-packages/whisper/transcribe.py:114: UserWarning: FP16 is not supported on CPU; using FP32 instead\n",
      "  warnings.warn(\"FP16 is not supported on CPU; using FP32 instead\")\n"
     ]
    }
   ],
   "source": [
    "whisper_root = \"/Users/evanpan/Desktop/External_libraries/whisper\"\n",
    "model = whisper.load_model(\"base.en\", download_root=os.path.join(whisper_root))\n",
    "result = model.transcribe(\"/Users/evanpan/Documents/GitHub/facial-PAE/datasets/30/30_katya_0_65_66.wav\")"
   ]
  },
  {
   "cell_type": "code",
   "execution_count": 14,
   "metadata": {},
   "outputs": [],
   "source": [
    "# for i in range(0, len(result[\"segments\"])):\n",
    "#     print(result[\"segments\"][i])\n",
    "\n",
    "text = result[\"text\"]\n",
    "with open(output_txt, \"w\") as f:\n",
    "    f.write(text)"
   ]
  },
  {
   "cell_type": "code",
   "execution_count": 16,
   "metadata": {},
   "outputs": [
    {
     "name": "stdout",
     "output_type": "stream",
     "text": [
      "mfa align [input dire with .txt and .wav files] english_us_arpa english_us_arpa [output dire for the textgrids]\n"
     ]
    }
   ],
   "source": [
    "print(\"mfa align {} english_us_arpa english_us_arpa {}\".format(\"[input dire with .txt and .wav files]\", \"[output dire for the textgrids]\"))"
   ]
  },
  {
   "cell_type": "code",
   "execution_count": null,
   "metadata": {},
   "outputs": [],
   "source": []
  }
 ],
 "metadata": {
  "kernelspec": {
   "display_name": "mfa",
   "language": "python",
   "name": "python3"
  },
  "language_info": {
   "codemirror_mode": {
    "name": "ipython",
    "version": 3
   },
   "file_extension": ".py",
   "mimetype": "text/x-python",
   "name": "python",
   "nbconvert_exporter": "python",
   "pygments_lexer": "ipython3",
   "version": "3.10.10"
  },
  "orig_nbformat": 4
 },
 "nbformat": 4,
 "nbformat_minor": 2
}
