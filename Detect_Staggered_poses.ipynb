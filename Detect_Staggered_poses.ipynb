{
 "cells": [
  {
   "cell_type": "code",
   "execution_count": 1,
   "id": "9b3e05f7",
   "metadata": {},
   "outputs": [],
   "source": [
    "import json\n",
    "from matplotlib import pyplot as plt\n",
    "import numpy as np"
   ]
  },
  {
   "cell_type": "code",
   "execution_count": 2,
   "id": "dc1ab99c",
   "metadata": {},
   "outputs": [],
   "source": [
    "# input block\n",
    "# motion_data_path = \"C:/Users/evansamaa/Desktop/Staggered_faces/data/live_link_data/LiveLinkFace_20220926_MySlate_7_Evans_Iphone/MySlate_7_Evans_Iphone.csv\"\n",
    "motion_data_path = \"C:/Users/evan1/Documents/staggered_face/data/live_link_data/LiveLinkFace_20220926_MySlate_7_Evans_Iphone/MySlate_7_Evans_Iphone.csv\"\n",
    "\n",
    "mode = \"acceleration\""
   ]
  },
  {
   "cell_type": "code",
   "execution_count": 3,
   "id": "8c7a16ec",
   "metadata": {},
   "outputs": [
    {
     "ename": "FileNotFoundError",
     "evalue": "[Errno 2] No such file or directory: 'C:/Users/evansamaa/Desktop/Staggered_faces/models/mesh_number_to_AU_name.json'",
     "output_type": "error",
     "traceback": [
      "\u001b[1;31m---------------------------------------------------------------------------\u001b[0m",
      "\u001b[1;31mFileNotFoundError\u001b[0m                         Traceback (most recent call last)",
      "Input \u001b[1;32mIn [3]\u001b[0m, in \u001b[0;36m<cell line: 4>\u001b[1;34m()\u001b[0m\n\u001b[0;32m      2\u001b[0m mesh_to_name \u001b[38;5;241m=\u001b[39m {}\n\u001b[0;32m      3\u001b[0m \u001b[38;5;66;03m# load model\u001b[39;00m\n\u001b[1;32m----> 4\u001b[0m \u001b[38;5;28;01mwith\u001b[39;00m \u001b[38;5;28;43mopen\u001b[39;49m\u001b[43m(\u001b[49m\u001b[38;5;124;43m\"\u001b[39;49m\u001b[38;5;124;43mC:/Users/evansamaa/Desktop/Staggered_faces/models/mesh_number_to_AU_name.json\u001b[39;49m\u001b[38;5;124;43m\"\u001b[39;49m\u001b[43m)\u001b[49m \u001b[38;5;28;01mas\u001b[39;00m f:\n\u001b[0;32m      5\u001b[0m     mesh_to_name \u001b[38;5;241m=\u001b[39m json\u001b[38;5;241m.\u001b[39mload(f)\n\u001b[0;32m      6\u001b[0m \u001b[38;5;28;01mwith\u001b[39;00m \u001b[38;5;28mopen\u001b[39m(\u001b[38;5;124m\"\u001b[39m\u001b[38;5;124mC:/Users/evansamaa/Desktop/Staggered_faces/models/AU_name_to_mesh_number.json\u001b[39m\u001b[38;5;124m\"\u001b[39m) \u001b[38;5;28;01mas\u001b[39;00m f:\n",
      "\u001b[1;31mFileNotFoundError\u001b[0m: [Errno 2] No such file or directory: 'C:/Users/evansamaa/Desktop/Staggered_faces/models/mesh_number_to_AU_name.json'"
     ]
    }
   ],
   "source": [
    "name_to_mesh = {}\n",
    "mesh_to_name = {}\n",
    "# load model\n",
    "with open(\"C:/Users/evansamaa/Desktop/Staggered_faces/models/mesh_number_to_AU_name.json\") as f:\n",
    "    mesh_to_name = json.load(f)\n",
    "with open(\"C:/Users/evansamaa/Desktop/Staggered_faces/models/AU_name_to_mesh_number.json\") as f:\n",
    "    name_to_mesh = json.load(f)\n",
    "# load data from file\n",
    "columns = []\n",
    "raw_data = []\n",
    "data = []\n",
    "times = []\n",
    "with open(motion_data_path) as f:\n",
    "    labels = f.readline()\n",
    "    columns = labels.split(\",\")\n",
    "    columns = columns[2:-10]\n",
    "    raw_data = f.readlines()\n",
    "for i in range(0, len(raw_data)):\n",
    "    frame_time = raw_data[i].split(\",\")[0]\n",
    "    frame_time_list = frame_time.split(\":\")\n",
    "    frame_hour, frame_minute, frame_second, frame_milisecond = frame_time_list\n",
    "    frame_hour = float(frame_hour)\n",
    "    frame_minute = float(frame_minute)\n",
    "    frame_second = float(frame_second)\n",
    "    frame_milisecond = float(frame_milisecond)\n",
    "    frame_time = frame_milisecond/60.0 + frame_second + frame_minute * 60 + frame_hour * 3600\n",
    "\n",
    "    frame_data = raw_data[i].split(\",\")\n",
    "    if len(frame_data) > 20:\n",
    "        times.append(frame_time)\n",
    "        data.append(frame_data[2: -10])\n",
    "        for j in range(len(data[-1])):\n",
    "            data[-1][j] = float(data[-1][j])\n",
    "start_time = times[0]\n",
    "for i in range(0, len(times)):\n",
    "    times[i] = times[i] - start_time"
   ]
  },
  {
   "cell_type": "code",
   "execution_count": 4,
   "id": "183000bd",
   "metadata": {},
   "outputs": [
    {
     "ename": "NameError",
     "evalue": "name 'data' is not defined",
     "output_type": "error",
     "traceback": [
      "\u001b[1;31m---------------------------------------------------------------------------\u001b[0m",
      "\u001b[1;31mNameError\u001b[0m                                 Traceback (most recent call last)",
      "Input \u001b[1;32mIn [4]\u001b[0m, in \u001b[0;36m<cell line: 2>\u001b[1;34m()\u001b[0m\n\u001b[0;32m      1\u001b[0m \u001b[38;5;66;03m# turn python list into numpy array for easier manipulation\u001b[39;00m\n\u001b[1;32m----> 2\u001b[0m data \u001b[38;5;241m=\u001b[39m np\u001b[38;5;241m.\u001b[39marray(\u001b[43mdata\u001b[49m)\n\u001b[0;32m      3\u001b[0m times \u001b[38;5;241m=\u001b[39m np\u001b[38;5;241m.\u001b[39marray(times)\n",
      "\u001b[1;31mNameError\u001b[0m: name 'data' is not defined"
     ]
    }
   ],
   "source": [
    "# turn python list into numpy array for easier manipulation\n",
    "data = np.array(data)\n",
    "times = np.array(times)"
   ]
  },
  {
   "cell_type": "code",
   "execution_count": null,
   "id": "b9edfe82",
   "metadata": {},
   "outputs": [],
   "source": [
    "data "
   ]
  },
  {
   "cell_type": "code",
   "execution_count": null,
   "id": "85a50f59",
   "metadata": {},
   "outputs": [],
   "source": []
  }
 ],
 "metadata": {
  "kernelspec": {
   "display_name": "NeckDriver",
   "language": "python",
   "name": "neckdriver"
  },
  "language_info": {
   "codemirror_mode": {
    "name": "ipython",
    "version": 3
   },
   "file_extension": ".py",
   "mimetype": "text/x-python",
   "name": "python",
   "nbconvert_exporter": "python",
   "pygments_lexer": "ipython3",
   "version": "3.10.4"
  }
 },
 "nbformat": 4,
 "nbformat_minor": 5
}
